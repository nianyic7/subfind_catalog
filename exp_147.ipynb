{
 "cells": [
  {
   "cell_type": "code",
   "execution_count": 1,
   "id": "ab16b001-78f6-4118-853c-98eaceb99ed8",
   "metadata": {},
   "outputs": [],
   "source": [
    "import numpy as np\n",
    "import matplotlib\n",
    "import matplotlib.pyplot as plt\n",
    "\n",
    "from bigfile import BigFile\n",
    "import glob,os,struct\n",
    "# from astropy.cosmology import FlatLambdaCDM\n",
    "import astropy.units as u\n",
    "from scipy.interpolate import interp1d\n",
    "from colossus.cosmology import cosmology\n",
    "\n",
    "import seaborn as sns\n",
    "\n",
    "sns.set()\n",
    "sns.set_palette(\"Set2\")\n",
    "sns.set_style('ticks',{'ytick.direction':'in','xtick.direction':'in'})\n",
    "\n",
    "cmap = plt.get_cmap(\"Set2\")\n",
    "sns.set_context(\"paper\", font_scale=1.7,rc={\"axes.linewidth\": 1.3,\"lines.linewidth\": 2.5,\"patch.linewidth\": 2.2})\n",
    "from matplotlib import rcParams as rc\n",
    "import pickle\n",
    "import warnings\n",
    "import h5py"
   ]
  },
  {
   "cell_type": "code",
   "execution_count": 2,
   "id": "c46b8738-6a93-4b52-9e2a-dd344b83553b",
   "metadata": {},
   "outputs": [],
   "source": [
    "snap = 147\n",
    "\n",
    "subroot = '/hildafs/datasets/Asterix//subfind/subfind_%03d'%snap\n",
    "tab=\"fof_subhalo_tab_%03d.hdf5\"%snap\n",
    "grp = \"snap-groupordered_%03d.hdf5\"%snap"
   ]
  },
  {
   "cell_type": "code",
   "execution_count": 5,
   "id": "389c5661-6fe4-4b54-840d-0d6d052ee20d",
   "metadata": {},
   "outputs": [],
   "source": [
    "def get_subfind_chunk(subroot):\n",
    "    subdir = subroot + '/chunk*'\n",
    "    chunk_list    = []\n",
    "    maxgroup_list = []\n",
    "    for ff in sorted(glob.glob(subdir)):\n",
    "        cname    = ff.split('/')[-1]\n",
    "        chunk    = int(cname.split('.')[0][5:])\n",
    "        maxgroup = int(cname.split('.')[1])\n",
    "        \n",
    "        chunk_list.append(chunk)\n",
    "        maxgroup_list.append(maxgroup)\n",
    "        \n",
    "    sort  = np.argsort(chunk_list)\n",
    "    chunk_list    = np.array(chunk_list)[sort]\n",
    "    maxgroup_list = np.array(maxgroup_list)[sort]\n",
    "    return chunk_list, maxgroup_list "
   ]
  },
  {
   "cell_type": "code",
   "execution_count": 6,
   "id": "f7d6b415-99bd-4f0c-8f6d-99f7daecf215",
   "metadata": {},
   "outputs": [],
   "source": [
    "chunk_list, maxgroup_list = get_subfind_chunk(subroot)\n",
    "len(chunk_list)\n",
    "chunks = chunk_list"
   ]
  },
  {
   "cell_type": "code",
   "execution_count": 15,
   "id": "efee5f29-e320-4317-9bf9-946a30f3704c",
   "metadata": {},
   "outputs": [],
   "source": [
    "cspec = []\n",
    "for c,m in zip(chunks, maxgroup_list):\n",
    "    if os.path.isdir(subroot + '/chunk%d.%d/output/groups_%d'%(c,m,snap)):\n",
    "        cspec.append(subroot + '/chunk%d.%d/output'%(c,m))"
   ]
  },
  {
   "cell_type": "code",
   "execution_count": 19,
   "id": "939e56a4-ce42-468f-ae5b-c96fbfb738b5",
   "metadata": {},
   "outputs": [
    {
     "name": "stdout",
     "output_type": "stream",
     "text": [
      "['/hildafs/datasets/Asterix//subfind/subfind_147/chunk381.59662736/output/groups_147/fof_subhalo_tab_147.0.hdf5', '/hildafs/datasets/Asterix//subfind/subfind_147/chunk381.59662736/output/groups_147/fof_subhalo_tab_147.1.hdf5']\n"
     ]
    }
   ],
   "source": [
    "ff = cspec[0]\n",
    "\n",
    "tabfiles = sorted(glob.glob(ff + '/groups_%03d/fof_subhalo_tab_%03d.*.hdf5'%(snap, snap)))\n",
    "print(tabfiles)"
   ]
  },
  {
   "cell_type": "code",
   "execution_count": 20,
   "id": "2b443006-7223-4cd3-b7eb-ad818dc07181",
   "metadata": {},
   "outputs": [],
   "source": [
    "off1 = h5py.File(tabfiles[0],'r')['Subhalo']['SubhaloOffsetType'][:]\n",
    "off2 = h5py.File(tabfiles[1],'r')['Subhalo']['SubhaloOffsetType'][:]"
   ]
  },
  {
   "cell_type": "code",
   "execution_count": 30,
   "id": "e9275b2b-b006-4cfa-8598-cfb7f76d5176",
   "metadata": {},
   "outputs": [
    {
     "data": {
      "text/plain": [
       "635894"
      ]
     },
     "execution_count": 30,
     "metadata": {},
     "output_type": "execute_result"
    }
   ],
   "source": [
    "h5py.File(tabfiles[0],'r')['Header'].attrs['Nsubhalos_ThisFile']"
   ]
  },
  {
   "cell_type": "code",
   "execution_count": 31,
   "id": "1bb4493b-4ee0-4757-a62c-97822ed7cab8",
   "metadata": {},
   "outputs": [
    {
     "data": {
      "text/plain": [
       "635469"
      ]
     },
     "execution_count": 31,
     "metadata": {},
     "output_type": "execute_result"
    }
   ],
   "source": [
    "h5py.File(tabfiles[1],'r')['Header'].attrs['Nsubhalos_ThisFile']"
   ]
  },
  {
   "cell_type": "code",
   "execution_count": null,
   "id": "7007d003-8c86-4271-8038-f1d5a8f99ff2",
   "metadata": {},
   "outputs": [],
   "source": []
  }
 ],
 "metadata": {
  "kernelspec": {
   "display_name": "default",
   "language": "python",
   "name": "default"
  },
  "language_info": {
   "codemirror_mode": {
    "name": "ipython",
    "version": 3
   },
   "file_extension": ".py",
   "mimetype": "text/x-python",
   "name": "python",
   "nbconvert_exporter": "python",
   "pygments_lexer": "ipython3",
   "version": "3.8.12"
  }
 },
 "nbformat": 4,
 "nbformat_minor": 5
}
